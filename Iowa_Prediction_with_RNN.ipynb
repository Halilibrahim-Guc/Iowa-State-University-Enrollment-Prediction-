{
  "nbformat": 4,
  "nbformat_minor": 0,
  "metadata": {
    "colab": {
      "provenance": [],
      "include_colab_link": true
    },
    "kernelspec": {
      "name": "python3",
      "display_name": "Python 3"
    },
    "language_info": {
      "name": "python"
    }
  },
  "cells": [
    {
      "cell_type": "markdown",
      "metadata": {
        "id": "view-in-github",
        "colab_type": "text"
      },
      "source": [
        "<a href=\"https://colab.research.google.com/github/Halilibrahim-Guc/Iowa-State-University-Enrollment-Prediction-/blob/main/Iowa_Prediction_with_RNN.ipynb\" target=\"_parent\"><img src=\"https://colab.research.google.com/assets/colab-badge.svg\" alt=\"Open In Colab\"/></a>"
      ]
    },
    {
      "cell_type": "code",
      "execution_count": 70,
      "metadata": {
        "id": "OA2XvoOQgzDf"
      },
      "outputs": [],
      "source": [
        "import pandas as pd\n",
        "import numpy as np\n",
        "import matplotlib.pyplot as plt\n",
        "from sklearn.preprocessing import MinMaxScaler\n",
        "from sklearn.metrics import mean_squared_error, r2_score, mean_absolute_error, mean_absolute_percentage_error \n",
        "import tensorflow as tf\n",
        "from tensorflow.keras.models import Sequential\n",
        "from tensorflow.keras.layers import Dense, SimpleRNN"
      ]
    },
    {
      "cell_type": "code",
      "source": [
        "data = pd.read_csv(\"/content/ISU Enrollment Data Set.zip\")"
      ],
      "metadata": {
        "id": "q4bmWOBNg-_K"
      },
      "execution_count": 71,
      "outputs": []
    },
    {
      "cell_type": "code",
      "source": [
        "# Extract the total enrollment data and normalize it\n",
        "total_enrollment = data[\"Total\"].values.reshape(-1, 1)\n",
        "scaler = MinMaxScaler()\n",
        "total_enrollment_scaled = scaler.fit_transform(total_enrollment)\n"
      ],
      "metadata": {
        "id": "8P3POrXehC0r"
      },
      "execution_count": 72,
      "outputs": []
    },
    {
      "cell_type": "code",
      "source": [
        "# Create a time series dataset with 12 months of lag\n",
        "n_steps = 12\n",
        "X = []\n",
        "y = []\n",
        "for i in range(n_steps, len(total_enrollment_scaled)):\n",
        "    X.append(total_enrollment_scaled[i-n_steps:i, 0])\n",
        "    y.append(total_enrollment_scaled[i, 0])\n",
        "X, y = np.array(X), np.array(y)\n"
      ],
      "metadata": {
        "id": "QF1IpOaxhEjB"
      },
      "execution_count": 73,
      "outputs": []
    },
    {
      "cell_type": "code",
      "source": [
        "# Split the data into training and testing sets\n",
        "split = int(0.8 * len(X))\n",
        "X_train, y_train = X[:split], y[:split]\n",
        "X_test, y_test = X[split:], y[split:]"
      ],
      "metadata": {
        "id": "Fx5Tmr2bhGOQ"
      },
      "execution_count": 74,
      "outputs": []
    },
    {
      "cell_type": "code",
      "source": [
        "# Reshape the data for the RNN model\n",
        "X_train = X_train.reshape((X_train.shape[0], X_train.shape[1], 1))\n",
        "X_test = X_test.reshape((X_test.shape[0], X_test.shape[1], 1))\n"
      ],
      "metadata": {
        "id": "9uFqIluUhHn-"
      },
      "execution_count": 75,
      "outputs": []
    },
    {
      "cell_type": "code",
      "source": [
        "# Define the RNN model architecture\n",
        "rnn_model = Sequential()\n",
        "rnn_model.add(SimpleRNN(64, input_shape=(n_steps, 1), activation=\"relu\"))\n",
        "rnn_model.add(Dense(1))"
      ],
      "metadata": {
        "id": "239Z96o_hJ8_"
      },
      "execution_count": 76,
      "outputs": []
    },
    {
      "cell_type": "code",
      "source": [
        "# Compile the model and specify the loss function and optimizer\n",
        "rnn_model.compile(loss=\"mse\", optimizer=\"adam\")\n"
      ],
      "metadata": {
        "id": "6nAd0dm7hMKx"
      },
      "execution_count": 77,
      "outputs": []
    },
    {
      "cell_type": "code",
      "source": [
        "# Train the model\n",
        "rnn_model.fit(X_train, y_train, epochs=100, batch_size=32, verbose=2)\n"
      ],
      "metadata": {
        "colab": {
          "base_uri": "https://localhost:8080/"
        },
        "id": "oP7ri7V6hOCX",
        "outputId": "9eb0e191-6504-42ad-f364-54a7d762ea7d"
      },
      "execution_count": 78,
      "outputs": [
        {
          "output_type": "stream",
          "name": "stdout",
          "text": [
            "Epoch 1/100\n",
            "2/2 - 1s - loss: 0.4270 - 1s/epoch - 554ms/step\n",
            "Epoch 2/100\n",
            "2/2 - 0s - loss: 0.2974 - 12ms/epoch - 6ms/step\n",
            "Epoch 3/100\n",
            "2/2 - 0s - loss: 0.2258 - 12ms/epoch - 6ms/step\n",
            "Epoch 4/100\n",
            "2/2 - 0s - loss: 0.1624 - 13ms/epoch - 6ms/step\n",
            "Epoch 5/100\n",
            "2/2 - 0s - loss: 0.1143 - 13ms/epoch - 6ms/step\n",
            "Epoch 6/100\n",
            "2/2 - 0s - loss: 0.0835 - 12ms/epoch - 6ms/step\n",
            "Epoch 7/100\n",
            "2/2 - 0s - loss: 0.0663 - 13ms/epoch - 6ms/step\n",
            "Epoch 8/100\n",
            "2/2 - 0s - loss: 0.0686 - 11ms/epoch - 5ms/step\n",
            "Epoch 9/100\n",
            "2/2 - 0s - loss: 0.0565 - 11ms/epoch - 6ms/step\n",
            "Epoch 10/100\n",
            "2/2 - 0s - loss: 0.0387 - 12ms/epoch - 6ms/step\n",
            "Epoch 11/100\n",
            "2/2 - 0s - loss: 0.0251 - 11ms/epoch - 6ms/step\n",
            "Epoch 12/100\n",
            "2/2 - 0s - loss: 0.0187 - 12ms/epoch - 6ms/step\n",
            "Epoch 13/100\n",
            "2/2 - 0s - loss: 0.0129 - 20ms/epoch - 10ms/step\n",
            "Epoch 14/100\n",
            "2/2 - 0s - loss: 0.0087 - 15ms/epoch - 7ms/step\n",
            "Epoch 15/100\n",
            "2/2 - 0s - loss: 0.0052 - 14ms/epoch - 7ms/step\n",
            "Epoch 16/100\n",
            "2/2 - 0s - loss: 0.0030 - 15ms/epoch - 8ms/step\n",
            "Epoch 17/100\n",
            "2/2 - 0s - loss: 0.0027 - 12ms/epoch - 6ms/step\n",
            "Epoch 18/100\n",
            "2/2 - 0s - loss: 0.0033 - 13ms/epoch - 6ms/step\n",
            "Epoch 19/100\n",
            "2/2 - 0s - loss: 0.0043 - 12ms/epoch - 6ms/step\n",
            "Epoch 20/100\n",
            "2/2 - 0s - loss: 0.0045 - 12ms/epoch - 6ms/step\n",
            "Epoch 21/100\n",
            "2/2 - 0s - loss: 0.0040 - 12ms/epoch - 6ms/step\n",
            "Epoch 22/100\n",
            "2/2 - 0s - loss: 0.0035 - 13ms/epoch - 6ms/step\n",
            "Epoch 23/100\n",
            "2/2 - 0s - loss: 0.0030 - 12ms/epoch - 6ms/step\n",
            "Epoch 24/100\n",
            "2/2 - 0s - loss: 0.0027 - 20ms/epoch - 10ms/step\n",
            "Epoch 25/100\n",
            "2/2 - 0s - loss: 0.0024 - 11ms/epoch - 6ms/step\n",
            "Epoch 26/100\n",
            "2/2 - 0s - loss: 0.0023 - 11ms/epoch - 6ms/step\n",
            "Epoch 27/100\n",
            "2/2 - 0s - loss: 0.0023 - 13ms/epoch - 6ms/step\n",
            "Epoch 28/100\n",
            "2/2 - 0s - loss: 0.0023 - 11ms/epoch - 6ms/step\n",
            "Epoch 29/100\n",
            "2/2 - 0s - loss: 0.0024 - 11ms/epoch - 6ms/step\n",
            "Epoch 30/100\n",
            "2/2 - 0s - loss: 0.0024 - 12ms/epoch - 6ms/step\n",
            "Epoch 31/100\n",
            "2/2 - 0s - loss: 0.0022 - 12ms/epoch - 6ms/step\n",
            "Epoch 32/100\n",
            "2/2 - 0s - loss: 0.0020 - 10ms/epoch - 5ms/step\n",
            "Epoch 33/100\n",
            "2/2 - 0s - loss: 0.0020 - 13ms/epoch - 7ms/step\n",
            "Epoch 34/100\n",
            "2/2 - 0s - loss: 0.0020 - 11ms/epoch - 5ms/step\n",
            "Epoch 35/100\n",
            "2/2 - 0s - loss: 0.0020 - 11ms/epoch - 5ms/step\n",
            "Epoch 36/100\n",
            "2/2 - 0s - loss: 0.0019 - 13ms/epoch - 7ms/step\n",
            "Epoch 37/100\n",
            "2/2 - 0s - loss: 0.0019 - 11ms/epoch - 6ms/step\n",
            "Epoch 38/100\n",
            "2/2 - 0s - loss: 0.0019 - 13ms/epoch - 6ms/step\n",
            "Epoch 39/100\n",
            "2/2 - 0s - loss: 0.0018 - 12ms/epoch - 6ms/step\n",
            "Epoch 40/100\n",
            "2/2 - 0s - loss: 0.0018 - 11ms/epoch - 6ms/step\n",
            "Epoch 41/100\n",
            "2/2 - 0s - loss: 0.0018 - 11ms/epoch - 6ms/step\n",
            "Epoch 42/100\n",
            "2/2 - 0s - loss: 0.0018 - 12ms/epoch - 6ms/step\n",
            "Epoch 43/100\n",
            "2/2 - 0s - loss: 0.0018 - 16ms/epoch - 8ms/step\n",
            "Epoch 44/100\n",
            "2/2 - 0s - loss: 0.0018 - 13ms/epoch - 6ms/step\n",
            "Epoch 45/100\n",
            "2/2 - 0s - loss: 0.0017 - 11ms/epoch - 6ms/step\n",
            "Epoch 46/100\n",
            "2/2 - 0s - loss: 0.0017 - 13ms/epoch - 7ms/step\n",
            "Epoch 47/100\n",
            "2/2 - 0s - loss: 0.0017 - 11ms/epoch - 5ms/step\n",
            "Epoch 48/100\n",
            "2/2 - 0s - loss: 0.0017 - 12ms/epoch - 6ms/step\n",
            "Epoch 49/100\n",
            "2/2 - 0s - loss: 0.0017 - 14ms/epoch - 7ms/step\n",
            "Epoch 50/100\n",
            "2/2 - 0s - loss: 0.0017 - 12ms/epoch - 6ms/step\n",
            "Epoch 51/100\n",
            "2/2 - 0s - loss: 0.0017 - 12ms/epoch - 6ms/step\n",
            "Epoch 52/100\n",
            "2/2 - 0s - loss: 0.0016 - 16ms/epoch - 8ms/step\n",
            "Epoch 53/100\n",
            "2/2 - 0s - loss: 0.0016 - 11ms/epoch - 5ms/step\n",
            "Epoch 54/100\n",
            "2/2 - 0s - loss: 0.0016 - 12ms/epoch - 6ms/step\n",
            "Epoch 55/100\n",
            "2/2 - 0s - loss: 0.0016 - 13ms/epoch - 7ms/step\n",
            "Epoch 56/100\n",
            "2/2 - 0s - loss: 0.0016 - 11ms/epoch - 6ms/step\n",
            "Epoch 57/100\n",
            "2/2 - 0s - loss: 0.0016 - 14ms/epoch - 7ms/step\n",
            "Epoch 58/100\n",
            "2/2 - 0s - loss: 0.0016 - 12ms/epoch - 6ms/step\n",
            "Epoch 59/100\n",
            "2/2 - 0s - loss: 0.0015 - 12ms/epoch - 6ms/step\n",
            "Epoch 60/100\n",
            "2/2 - 0s - loss: 0.0015 - 12ms/epoch - 6ms/step\n",
            "Epoch 61/100\n",
            "2/2 - 0s - loss: 0.0015 - 13ms/epoch - 7ms/step\n",
            "Epoch 62/100\n",
            "2/2 - 0s - loss: 0.0015 - 19ms/epoch - 9ms/step\n",
            "Epoch 63/100\n",
            "2/2 - 0s - loss: 0.0015 - 18ms/epoch - 9ms/step\n",
            "Epoch 64/100\n",
            "2/2 - 0s - loss: 0.0015 - 13ms/epoch - 6ms/step\n",
            "Epoch 65/100\n",
            "2/2 - 0s - loss: 0.0015 - 14ms/epoch - 7ms/step\n",
            "Epoch 66/100\n",
            "2/2 - 0s - loss: 0.0014 - 12ms/epoch - 6ms/step\n",
            "Epoch 67/100\n",
            "2/2 - 0s - loss: 0.0014 - 12ms/epoch - 6ms/step\n",
            "Epoch 68/100\n",
            "2/2 - 0s - loss: 0.0014 - 12ms/epoch - 6ms/step\n",
            "Epoch 69/100\n",
            "2/2 - 0s - loss: 0.0014 - 14ms/epoch - 7ms/step\n",
            "Epoch 70/100\n",
            "2/2 - 0s - loss: 0.0014 - 14ms/epoch - 7ms/step\n",
            "Epoch 71/100\n",
            "2/2 - 0s - loss: 0.0014 - 21ms/epoch - 10ms/step\n",
            "Epoch 72/100\n",
            "2/2 - 0s - loss: 0.0013 - 12ms/epoch - 6ms/step\n",
            "Epoch 73/100\n",
            "2/2 - 0s - loss: 0.0013 - 13ms/epoch - 6ms/step\n",
            "Epoch 74/100\n",
            "2/2 - 0s - loss: 0.0013 - 13ms/epoch - 6ms/step\n",
            "Epoch 75/100\n",
            "2/2 - 0s - loss: 0.0013 - 12ms/epoch - 6ms/step\n",
            "Epoch 76/100\n",
            "2/2 - 0s - loss: 0.0013 - 12ms/epoch - 6ms/step\n",
            "Epoch 77/100\n",
            "2/2 - 0s - loss: 0.0013 - 12ms/epoch - 6ms/step\n",
            "Epoch 78/100\n",
            "2/2 - 0s - loss: 0.0013 - 14ms/epoch - 7ms/step\n",
            "Epoch 79/100\n",
            "2/2 - 0s - loss: 0.0012 - 13ms/epoch - 6ms/step\n",
            "Epoch 80/100\n",
            "2/2 - 0s - loss: 0.0012 - 20ms/epoch - 10ms/step\n",
            "Epoch 81/100\n",
            "2/2 - 0s - loss: 0.0012 - 13ms/epoch - 6ms/step\n",
            "Epoch 82/100\n",
            "2/2 - 0s - loss: 0.0012 - 13ms/epoch - 7ms/step\n",
            "Epoch 83/100\n",
            "2/2 - 0s - loss: 0.0012 - 13ms/epoch - 6ms/step\n",
            "Epoch 84/100\n",
            "2/2 - 0s - loss: 0.0012 - 12ms/epoch - 6ms/step\n",
            "Epoch 85/100\n",
            "2/2 - 0s - loss: 0.0012 - 15ms/epoch - 7ms/step\n",
            "Epoch 86/100\n",
            "2/2 - 0s - loss: 0.0011 - 12ms/epoch - 6ms/step\n",
            "Epoch 87/100\n",
            "2/2 - 0s - loss: 0.0011 - 13ms/epoch - 6ms/step\n",
            "Epoch 88/100\n",
            "2/2 - 0s - loss: 0.0011 - 12ms/epoch - 6ms/step\n",
            "Epoch 89/100\n",
            "2/2 - 0s - loss: 0.0011 - 13ms/epoch - 7ms/step\n",
            "Epoch 90/100\n",
            "2/2 - 0s - loss: 0.0011 - 14ms/epoch - 7ms/step\n",
            "Epoch 91/100\n",
            "2/2 - 0s - loss: 0.0011 - 13ms/epoch - 7ms/step\n",
            "Epoch 92/100\n",
            "2/2 - 0s - loss: 0.0010 - 13ms/epoch - 7ms/step\n",
            "Epoch 93/100\n",
            "2/2 - 0s - loss: 0.0010 - 13ms/epoch - 6ms/step\n",
            "Epoch 94/100\n",
            "2/2 - 0s - loss: 0.0011 - 13ms/epoch - 6ms/step\n",
            "Epoch 95/100\n",
            "2/2 - 0s - loss: 0.0011 - 12ms/epoch - 6ms/step\n",
            "Epoch 96/100\n",
            "2/2 - 0s - loss: 9.9762e-04 - 13ms/epoch - 7ms/step\n",
            "Epoch 97/100\n",
            "2/2 - 0s - loss: 9.7711e-04 - 11ms/epoch - 6ms/step\n",
            "Epoch 98/100\n",
            "2/2 - 0s - loss: 9.5709e-04 - 12ms/epoch - 6ms/step\n",
            "Epoch 99/100\n",
            "2/2 - 0s - loss: 9.6025e-04 - 14ms/epoch - 7ms/step\n",
            "Epoch 100/100\n",
            "2/2 - 0s - loss: 9.2880e-04 - 14ms/epoch - 7ms/step\n"
          ]
        },
        {
          "output_type": "execute_result",
          "data": {
            "text/plain": [
              "<keras.callbacks.History at 0x7f1318be2170>"
            ]
          },
          "metadata": {},
          "execution_count": 78
        }
      ]
    },
    {
      "cell_type": "code",
      "source": [
        "# Evaluate the model on the test set\n",
        "mse = rnn_model.evaluate(X_test, y_test, verbose=0)\n",
        "print(\"MSE:\", mse)"
      ],
      "metadata": {
        "colab": {
          "base_uri": "https://localhost:8080/"
        },
        "id": "fE8W3K9ghQO5",
        "outputId": "0ac902be-2650-4bba-e355-15da6c5ceccb"
      },
      "execution_count": 79,
      "outputs": [
        {
          "output_type": "stream",
          "name": "stderr",
          "text": [
            "WARNING:tensorflow:6 out of the last 6 calls to <function Model.make_test_function.<locals>.test_function at 0x7f1319538670> triggered tf.function retracing. Tracing is expensive and the excessive number of tracings could be due to (1) creating @tf.function repeatedly in a loop, (2) passing tensors with different shapes, (3) passing Python objects instead of tensors. For (1), please define your @tf.function outside of the loop. For (2), @tf.function has reduce_retracing=True option that can avoid unnecessary retracing. For (3), please refer to https://www.tensorflow.org/guide/function#controlling_retracing and https://www.tensorflow.org/api_docs/python/tf/function for  more details.\n"
          ]
        },
        {
          "output_type": "stream",
          "name": "stdout",
          "text": [
            "MSE: 0.0005216281861066818\n"
          ]
        }
      ]
    },
    {
      "cell_type": "code",
      "source": [
        "# Evaluate the performance of the model on the test data using RMSE\n",
        "y_pred = rnn_model.predict(X_test)\n",
        "rmse = np.sqrt(mean_squared_error(y_test, y_pred))\n",
        "print('RMSE: %.3f' % rmse)"
      ],
      "metadata": {
        "id": "_TY26sK9v0rg",
        "outputId": "f4b7f13f-6e87-426f-82d5-12fdfa63db1c",
        "colab": {
          "base_uri": "https://localhost:8080/"
        }
      },
      "execution_count": 80,
      "outputs": [
        {
          "output_type": "stream",
          "name": "stderr",
          "text": [
            "WARNING:tensorflow:6 out of the last 6 calls to <function Model.make_predict_function.<locals>.predict_function at 0x7f13195397e0> triggered tf.function retracing. Tracing is expensive and the excessive number of tracings could be due to (1) creating @tf.function repeatedly in a loop, (2) passing tensors with different shapes, (3) passing Python objects instead of tensors. For (1), please define your @tf.function outside of the loop. For (2), @tf.function has reduce_retracing=True option that can avoid unnecessary retracing. For (3), please refer to https://www.tensorflow.org/guide/function#controlling_retracing and https://www.tensorflow.org/api_docs/python/tf/function for  more details.\n"
          ]
        },
        {
          "output_type": "stream",
          "name": "stdout",
          "text": [
            "1/1 [==============================] - 0s 188ms/step\n",
            "RMSE: 0.023\n"
          ]
        }
      ]
    },
    {
      "cell_type": "code",
      "source": [
        "# Calculate R-squared of regression model\n",
        "R_square = r2_score(y_test, y_pred)\n",
        "print('Coefficient of Determination', R_square)\n",
        "\n",
        "# Calculate MAE and Mape\n",
        "print(mean_absolute_error(y_test, y_pred))\n",
        "print(mean_absolute_percentage_error(y_test, y_pred))"
      ],
      "metadata": {
        "colab": {
          "base_uri": "https://localhost:8080/"
        },
        "id": "DzUInCx1xHNv",
        "outputId": "c98b2f97-c4ba-475d-95eb-02c883095356"
      },
      "execution_count": 81,
      "outputs": [
        {
          "output_type": "stream",
          "name": "stdout",
          "text": [
            "Coefficient of Determination 0.9932314977399103\n",
            "0.020139347640382887\n",
            "15978768717141.701\n"
          ]
        }
      ]
    },
    {
      "cell_type": "code",
      "source": [
        "# Plot the predicted values against the actual values on a scatter plot\n",
        "x_ax = range(len(y_test))\n",
        "plt.plot(x_ax, y_test, label=\"Actual Number of Students\")\n",
        "plt.plot(x_ax, y_pred, label=\"Predicted Number of Students\")\n",
        "plt.title('Actual vs. Predicted Number of Students')\n",
        "plt.legend()\n",
        "plt.show()"
      ],
      "metadata": {
        "colab": {
          "base_uri": "https://localhost:8080/",
          "height": 452
        },
        "id": "mgfGLgu9xHx2",
        "outputId": "3210a70d-d77d-45a5-b3fb-0f152940ad8a"
      },
      "execution_count": 82,
      "outputs": [
        {
          "output_type": "display_data",
          "data": {
            "text/plain": [
              "<Figure size 640x480 with 1 Axes>"
            ],
            "image/png": "[encoded data removed]"
          },
          "metadata": {}
        }
      ]
    }
  ]
}